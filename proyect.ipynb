{
 "cells": [
  {
   "cell_type": "markdown",
   "metadata": {},
   "source": [
    "Hay que hacer bonito esto pero es pa poner la direccion de la api \n"
   ]
  },
  {
   "cell_type": "code",
   "execution_count": 1,
   "metadata": {},
   "outputs": [],
   "source": [
    "import requests as rq\n",
    "import pandas as pd\n",
    "from bs4 import BeautifulSoup"
   ]
  },
  {
   "cell_type": "code",
   "execution_count": 44,
   "metadata": {},
   "outputs": [],
   "source": [
    "lista_paises = [[\"japon\", (1998, 2006), \"WC\"], [\"corea-del-sur\", (1998, 2006), \"WC\"], \n",
    "[\"alemania\", (2002, 2010), \"WC\"], [\"sudafrica\", (2006, 2014), \"WC\"], [\"brasil\", (2010, 2018), \"WC\"], [\"rusia\", (2014, 2020), \"WC\"], \n",
    "[\"grecia\", (2000, 2008), \"OL\"], [\"china\", (2004, 2012), \"OL\"], [\"uk\", (2008, 2016), \"OL\"], [\"brasil\", (2012, 2020), \"OL\"]]\n",
    "l_ol = []\n",
    "l_wc = []"
   ]
  },
  {
   "cell_type": "code",
   "execution_count": 47,
   "metadata": {},
   "outputs": [],
   "source": [
    "for j in lista_paises:\n",
    "    pais = j[0]\n",
    "    anos = j[1]\n",
    "    tipo = j[2]\n",
    "    url = f\"https://datosmacro.expansion.com/comercio/turismo-internacional/{pais}\"\n",
    "    page = rq.get(url)\n",
    "    sopa = BeautifulSoup(page.content, \"html.parser\")\n",
    "    tabla = sopa.find(\"table\")\n",
    "    valores = tabla.find_all('td')\n",
    "\n",
    "    fechas = []\n",
    "    gente = []\n",
    "    for i in range(len(valores)):\n",
    "        if i%2 == 0:\n",
    "            fechas.append(valores[i].text)\n",
    "        else:\n",
    "            gente.append(valores[i].text)\n",
    "    \n",
    "    df = pd.DataFrame(columns=['Fecha', 'Turistas'])\n",
    "    df['Fecha'] = fechas\n",
    "    df['Turistas'] = gente\n",
    "    df = df.sort_values('Fecha').reset_index(drop=True)\n",
    "    df['Fecha'] = df['Fecha'].astype('int64')\n",
    "    df['Turistas'] = df['Turistas'].apply(lambda x: x.replace('.', ''))\n",
    "    df['Turistas'] = df['Turistas'].astype('int64')\n",
    "\n",
    "    porcentaje = []\n",
    "    for i in df[\"Turistas\"]:\n",
    "        if len(porcentaje) == 0:\n",
    "            porcentaje.append(0)\n",
    "            ultimo = i\n",
    "        else:\n",
    "            porc = (i*100)/ultimo\n",
    "            porc -= 100\n",
    "            porcentaje.append(porc)\n",
    "            ultimo = i\n",
    "    \n",
    "    df['crecimiento'] = porcentaje\n",
    "    df = df[df[\"Fecha\"] <= anos[1]]\n",
    "    df = df[df[\"Fecha\"] >= anos[0]]\n",
    "    df[\"Pais\"] = pais\n",
    "    df[\"Evento\"] = tipo\n",
    "    df.reset_index(drop=True, inplace=True)\n",
    "\n",
    "    if tipo == \"WC\":\n",
    "        l_wc.append(df)\n",
    "\n",
    "    else:\n",
    "        l_ol.append(df)\n",
    "    "
   ]
  },
  {
   "cell_type": "code",
   "execution_count": null,
   "metadata": {},
   "outputs": [],
   "source": []
  },
  {
   "cell_type": "markdown",
   "metadata": {},
   "source": [
    "Ver crecimiento mundial de pib, promedio y calcular el promedio de cada pais y comparar"
   ]
  },
  {
   "cell_type": "markdown",
   "metadata": {},
   "source": [
    "Hipótesis:   \n",
    "1. La organización de un mundial hace que en el tiempo cercano al evento (los 2 años antes) se incrementa el gasto en el turismo, ya que se espera que el mundial fomente el turismo en el país.   \n",
    "2. El mundial genera una mayor llegada de turistas en el año y en el próximo lustro.   \n",
    "3. La mayor llegada de turistas genera más ingresos por turismo.   \n",
    "4. Esto al final no influye mucho en el pib (no genera más de medio punto de cambio en el per capita)"
   ]
  },
  {
   "cell_type": "markdown",
   "metadata": {},
   "source": [
    "Organizar:\n",
    "Calcular diferencia porcentual por pais del pib, ingreso neto, ingreso personas\n",
    "Despues de calcular eso:\n",
    "3 graficos pequeños con lo calculado, grafico por pais (pairplot)\n",
    "Final:\n",
    "3 graficos finales con 4 antes por pais (color por wc y ol) y 4 despues con lo mismo y asi hacer difecrencia por pais\n"
   ]
  }
 ],
 "metadata": {
  "kernelspec": {
   "display_name": "Python 3.10.6 64-bit",
   "language": "python",
   "name": "python3"
  },
  "language_info": {
   "codemirror_mode": {
    "name": "ipython",
    "version": 3
   },
   "file_extension": ".py",
   "mimetype": "text/x-python",
   "name": "python",
   "nbconvert_exporter": "python",
   "pygments_lexer": "ipython3",
   "version": "3.10.6"
  },
  "orig_nbformat": 4,
  "vscode": {
   "interpreter": {
    "hash": "1488b9ef26de27252867fd64af3c2fca31d0aa8d47de4f131005a98fd1754f13"
   }
  }
 },
 "nbformat": 4,
 "nbformat_minor": 2
}
