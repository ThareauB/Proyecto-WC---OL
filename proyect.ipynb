{
 "cells": [
  {
   "cell_type": "markdown",
   "metadata": {},
   "source": [
    "Hay que hacer bonito esto pero es pa poner la direccion de la api \n"
   ]
  },
  {
   "cell_type": "code",
   "execution_count": 1,
   "metadata": {},
   "outputs": [],
   "source": [
    "import requests as rq\n",
    "import pandas as pd\n",
    "from bs4 import BeautifulSoup\n",
    "import matplotlib.pyplot as plt\n",
    "import seaborn as sns"
   ]
  },
  {
   "cell_type": "code",
   "execution_count": 2,
   "metadata": {},
   "outputs": [],
   "source": [
    "lista_paises = [[\"japon\", (1998, 2006), \"WC\"], [\"corea-del-sur\", (1998, 2006), \"WC\"], \n",
    "[\"alemania\", (2002, 2010), \"WC\"], [\"sudafrica\", (2006, 2014), \"WC\"], [\"brasil\", (2010, 2018), \"WC\"], [\"rusia\", (2014, 2020), \"WC\"], \n",
    "[\"grecia\", (2000, 2008), \"OL\"], [\"china\", (2004, 2012), \"OL\"], [\"uk\", (2008, 2016), \"OL\"], [\"brasil\", (2012, 2020), \"OL\"]]\n",
    "l_ol = []\n",
    "l_wc = []"
   ]
  },
  {
   "cell_type": "code",
   "execution_count": 3,
   "metadata": {},
   "outputs": [],
   "source": [
    "for j in lista_paises:\n",
    "    pais = j[0]\n",
    "    anos = j[1]\n",
    "    tipo = j[2]\n",
    "    url = f\"https://datosmacro.expansion.com/comercio/turismo-internacional/{pais}\"\n",
    "    page = rq.get(url)\n",
    "    sopa = BeautifulSoup(page.content, \"html.parser\")\n",
    "    tabla = sopa.find(\"table\")\n",
    "    valores = tabla.find_all('td')\n",
    "\n",
    "    fechas = []\n",
    "    gente = []\n",
    "    for i in range(len(valores)):\n",
    "        if i%2 == 0:\n",
    "            fechas.append(valores[i].text)\n",
    "        else:\n",
    "            gente.append(valores[i].text)\n",
    "    \n",
    "    df = pd.DataFrame(columns=['Fecha', 'Turistas'])\n",
    "    df['Fecha'] = fechas\n",
    "    df['Turistas'] = gente\n",
    "    df = df.sort_values('Fecha').reset_index(drop=True)\n",
    "    df['Fecha'] = df['Fecha'].astype('int64')\n",
    "    df['Turistas'] = df['Turistas'].apply(lambda x: x.replace('.', ''))\n",
    "    df['Turistas'] = df['Turistas'].astype('int64')\n",
    "\n",
    "    porcentaje = []\n",
    "    for i in df[\"Turistas\"]:\n",
    "        if len(porcentaje) == 0:\n",
    "            porcentaje.append(0)\n",
    "            ultimo = i\n",
    "        else:\n",
    "            porc = (i*100)/ultimo\n",
    "            porc -= 100\n",
    "            porcentaje.append(porc)\n",
    "            ultimo = i\n",
    "    \n",
    "    df['crecimiento'] = porcentaje\n",
    "    df = df[df[\"Fecha\"] <= anos[1]]\n",
    "    df = df[df[\"Fecha\"] >= anos[0]]\n",
    "    df[\"Pais\"] = pais\n",
    "    df[\"Evento\"] = tipo\n",
    "    df.reset_index(drop=True, inplace=True)\n",
    "\n",
    "    if tipo == \"WC\":\n",
    "        l_wc.append(df)\n",
    "\n",
    "    else:\n",
    "        l_ol.append(df)\n",
    "    "
   ]
  },
  {
   "cell_type": "code",
   "execution_count": 4,
   "metadata": {},
   "outputs": [],
   "source": [
    "diff_anos = [-4, -3, -2, -1, 0, 1, 2, 3, 4]\n",
    "for df in l_wc:\n",
    "   df['Diff_anos'] = diff_anos[:len(df)]\n",
    "\n",
    "for df in l_ol:\n",
    "   df['Diff_anos'] = diff_anos[:len(df)]\n"
   ]
  },
  {
   "cell_type": "code",
   "execution_count": 5,
   "metadata": {},
   "outputs": [
    {
     "data": {
      "text/html": [
       "<div>\n",
       "<style scoped>\n",
       "    .dataframe tbody tr th:only-of-type {\n",
       "        vertical-align: middle;\n",
       "    }\n",
       "\n",
       "    .dataframe tbody tr th {\n",
       "        vertical-align: top;\n",
       "    }\n",
       "\n",
       "    .dataframe thead th {\n",
       "        text-align: right;\n",
       "    }\n",
       "</style>\n",
       "<table border=\"1\" class=\"dataframe\">\n",
       "  <thead>\n",
       "    <tr style=\"text-align: right;\">\n",
       "      <th></th>\n",
       "      <th>Fecha</th>\n",
       "      <th>Turistas</th>\n",
       "      <th>crecimiento</th>\n",
       "      <th>Pais</th>\n",
       "      <th>Evento</th>\n",
       "      <th>Diff_anos</th>\n",
       "    </tr>\n",
       "  </thead>\n",
       "  <tbody>\n",
       "    <tr>\n",
       "      <th>0</th>\n",
       "      <td>1998</td>\n",
       "      <td>4106000</td>\n",
       "      <td>-2.655287</td>\n",
       "      <td>japon</td>\n",
       "      <td>WC</td>\n",
       "      <td>-4</td>\n",
       "    </tr>\n",
       "    <tr>\n",
       "      <th>1</th>\n",
       "      <td>1999</td>\n",
       "      <td>4438000</td>\n",
       "      <td>8.085728</td>\n",
       "      <td>japon</td>\n",
       "      <td>WC</td>\n",
       "      <td>-3</td>\n",
       "    </tr>\n",
       "    <tr>\n",
       "      <th>2</th>\n",
       "      <td>2000</td>\n",
       "      <td>4757000</td>\n",
       "      <td>7.187922</td>\n",
       "      <td>japon</td>\n",
       "      <td>WC</td>\n",
       "      <td>-2</td>\n",
       "    </tr>\n",
       "    <tr>\n",
       "      <th>3</th>\n",
       "      <td>2001</td>\n",
       "      <td>4772000</td>\n",
       "      <td>0.315325</td>\n",
       "      <td>japon</td>\n",
       "      <td>WC</td>\n",
       "      <td>-1</td>\n",
       "    </tr>\n",
       "    <tr>\n",
       "      <th>4</th>\n",
       "      <td>2002</td>\n",
       "      <td>5239000</td>\n",
       "      <td>9.786253</td>\n",
       "      <td>japon</td>\n",
       "      <td>WC</td>\n",
       "      <td>0</td>\n",
       "    </tr>\n",
       "    <tr>\n",
       "      <th>5</th>\n",
       "      <td>2003</td>\n",
       "      <td>5212000</td>\n",
       "      <td>-0.515366</td>\n",
       "      <td>japon</td>\n",
       "      <td>WC</td>\n",
       "      <td>1</td>\n",
       "    </tr>\n",
       "    <tr>\n",
       "      <th>6</th>\n",
       "      <td>2004</td>\n",
       "      <td>6138000</td>\n",
       "      <td>17.766692</td>\n",
       "      <td>japon</td>\n",
       "      <td>WC</td>\n",
       "      <td>2</td>\n",
       "    </tr>\n",
       "    <tr>\n",
       "      <th>7</th>\n",
       "      <td>2005</td>\n",
       "      <td>6728000</td>\n",
       "      <td>9.612252</td>\n",
       "      <td>japon</td>\n",
       "      <td>WC</td>\n",
       "      <td>3</td>\n",
       "    </tr>\n",
       "    <tr>\n",
       "      <th>8</th>\n",
       "      <td>2006</td>\n",
       "      <td>7334000</td>\n",
       "      <td>9.007134</td>\n",
       "      <td>japon</td>\n",
       "      <td>WC</td>\n",
       "      <td>4</td>\n",
       "    </tr>\n",
       "  </tbody>\n",
       "</table>\n",
       "</div>"
      ],
      "text/plain": [
       "   Fecha  Turistas  crecimiento   Pais Evento  Diff_anos\n",
       "0   1998   4106000    -2.655287  japon     WC         -4\n",
       "1   1999   4438000     8.085728  japon     WC         -3\n",
       "2   2000   4757000     7.187922  japon     WC         -2\n",
       "3   2001   4772000     0.315325  japon     WC         -1\n",
       "4   2002   5239000     9.786253  japon     WC          0\n",
       "5   2003   5212000    -0.515366  japon     WC          1\n",
       "6   2004   6138000    17.766692  japon     WC          2\n",
       "7   2005   6728000     9.612252  japon     WC          3\n",
       "8   2006   7334000     9.007134  japon     WC          4"
      ]
     },
     "execution_count": 5,
     "metadata": {},
     "output_type": "execute_result"
    }
   ],
   "source": [
    "l_wc[0]"
   ]
  },
  {
   "cell_type": "code",
   "execution_count": 6,
   "metadata": {},
   "outputs": [],
   "source": [
    "df_wc = pd.concat(l_wc, join='inner', ignore_index=True)\n",
    "df_ol = pd.concat(l_ol, join='inner', ignore_index=True)"
   ]
  },
  {
   "cell_type": "code",
   "execution_count": 26,
   "metadata": {},
   "outputs": [
    {
     "data": {
      "text/html": [
       "<div>\n",
       "<style scoped>\n",
       "    .dataframe tbody tr th:only-of-type {\n",
       "        vertical-align: middle;\n",
       "    }\n",
       "\n",
       "    .dataframe tbody tr th {\n",
       "        vertical-align: top;\n",
       "    }\n",
       "\n",
       "    .dataframe thead th {\n",
       "        text-align: right;\n",
       "    }\n",
       "</style>\n",
       "<table border=\"1\" class=\"dataframe\">\n",
       "  <thead>\n",
       "    <tr style=\"text-align: right;\">\n",
       "      <th></th>\n",
       "      <th>-4</th>\n",
       "      <th>-3</th>\n",
       "      <th>-2</th>\n",
       "      <th>-1</th>\n",
       "      <th>0</th>\n",
       "      <th>Paises</th>\n",
       "    </tr>\n",
       "  </thead>\n",
       "  <tbody>\n",
       "    <tr>\n",
       "      <th>0</th>\n",
       "      <td>-2.655287</td>\n",
       "      <td>8.085728</td>\n",
       "      <td>7.187922</td>\n",
       "      <td>0.315325</td>\n",
       "      <td>9.786253</td>\n",
       "      <td>Japon</td>\n",
       "    </tr>\n",
       "    <tr>\n",
       "      <th>1</th>\n",
       "      <td>8.751279</td>\n",
       "      <td>9.647059</td>\n",
       "      <td>14.206009</td>\n",
       "      <td>-3.288238</td>\n",
       "      <td>3.885759</td>\n",
       "      <td>Korea del sur</td>\n",
       "    </tr>\n",
       "    <tr>\n",
       "      <th>2</th>\n",
       "      <td>0.604669</td>\n",
       "      <td>2.393010</td>\n",
       "      <td>9.446166</td>\n",
       "      <td>6.768635</td>\n",
       "      <td>9.623256</td>\n",
       "      <td>Alemania</td>\n",
       "    </tr>\n",
       "    <tr>\n",
       "      <th>3</th>\n",
       "      <td>13.936762</td>\n",
       "      <td>8.277751</td>\n",
       "      <td>5.510945</td>\n",
       "      <td>-26.897415</td>\n",
       "      <td>15.145465</td>\n",
       "      <td>Sudafrica</td>\n",
       "    </tr>\n",
       "    <tr>\n",
       "      <th>4</th>\n",
       "      <td>7.476052</td>\n",
       "      <td>5.270296</td>\n",
       "      <td>4.491073</td>\n",
       "      <td>2.395631</td>\n",
       "      <td>10.614141</td>\n",
       "      <td>Brasil</td>\n",
       "    </tr>\n",
       "    <tr>\n",
       "      <th>5</th>\n",
       "      <td>5.290335</td>\n",
       "      <td>4.034422</td>\n",
       "      <td>-27.151709</td>\n",
       "      <td>-0.736641</td>\n",
       "      <td>0.660107</td>\n",
       "      <td>Rusia</td>\n",
       "    </tr>\n",
       "  </tbody>\n",
       "</table>\n",
       "</div>"
      ],
      "text/plain": [
       "          -4        -3         -2         -1          0         Paises\n",
       "0  -2.655287  8.085728   7.187922   0.315325   9.786253          Japon\n",
       "1   8.751279  9.647059  14.206009  -3.288238   3.885759  Korea del sur\n",
       "2   0.604669  2.393010   9.446166   6.768635   9.623256       Alemania\n",
       "3  13.936762  8.277751   5.510945 -26.897415  15.145465      Sudafrica\n",
       "4   7.476052  5.270296   4.491073   2.395631  10.614141         Brasil\n",
       "5   5.290335  4.034422 -27.151709  -0.736641   0.660107          Rusia"
      ]
     },
     "execution_count": 26,
     "metadata": {},
     "output_type": "execute_result"
    }
   ],
   "source": [
    "numeros = [-4, -3, -2, -1, 0]\n",
    "columnas = []\n",
    "for p in numeros:\n",
    "    df_pru = df_wc[df_wc['Diff_anos']== p]\n",
    "    columnas.append(df_pru['crecimiento'].values)\n",
    "len(columnas)\n",
    "columnas[0]\n",
    "prueba = pd.DataFrame()\n",
    "columnas[1]\n",
    "n = 0\n",
    "for p in columnas:\n",
    "    prueba[str(numeros[n])] = p\n",
    "    n += 1\n",
    "paises = ['Japon', 'Korea del sur', 'Alemania', 'Sudafrica', 'Brasil', 'Rusia']\n",
    "prueba['Paises'] = paises\n",
    "prueba "
   ]
  },
  {
   "cell_type": "code",
   "execution_count": 27,
   "metadata": {},
   "outputs": [
    {
     "data": {
      "image/png": "[encoded data removed]",
      "text/plain": [
       "<Figure size 432x288 with 2 Axes>"
      ]
     },
     "metadata": {
      "needs_background": "light"
     },
     "output_type": "display_data"
    }
   ],
   "source": [
    "corr_df = prueba.corr(method='pearson')\n",
    "\n",
    "sns.heatmap(corr_df, annot=True)\n",
    "plt.show()"
   ]
  },
  {
   "cell_type": "code",
   "execution_count": 28,
   "metadata": {},
   "outputs": [],
   "source": [
    "from sklearn.linear_model import LinearRegression\n",
    "from sklearn.model_selection import train_test_split\n"
   ]
  },
  {
   "cell_type": "code",
   "execution_count": 30,
   "metadata": {},
   "outputs": [],
   "source": [
    "prueba_2 = prueba.drop(['Paises'], axis = 1)"
   ]
  },
  {
   "cell_type": "code",
   "execution_count": 31,
   "metadata": {},
   "outputs": [
    {
     "data": {
      "text/html": [
       "<style>#sk-container-id-1 {color: black;background-color: white;}#sk-container-id-1 pre{padding: 0;}#sk-container-id-1 div.sk-toggleable {background-color: white;}#sk-container-id-1 label.sk-toggleable__label {cursor: pointer;display: block;width: 100%;margin-bottom: 0;padding: 0.3em;box-sizing: border-box;text-align: center;}#sk-container-id-1 label.sk-toggleable__label-arrow:before {content: \"▸\";float: left;margin-right: 0.25em;color: #696969;}#sk-container-id-1 label.sk-toggleable__label-arrow:hover:before {color: black;}#sk-container-id-1 div.sk-estimator:hover label.sk-toggleable__label-arrow:before {color: black;}#sk-container-id-1 div.sk-toggleable__content {max-height: 0;max-width: 0;overflow: hidden;text-align: left;background-color: #f0f8ff;}#sk-container-id-1 div.sk-toggleable__content pre {margin: 0.2em;color: black;border-radius: 0.25em;background-color: #f0f8ff;}#sk-container-id-1 input.sk-toggleable__control:checked~div.sk-toggleable__content {max-height: 200px;max-width: 100%;overflow: auto;}#sk-container-id-1 input.sk-toggleable__control:checked~label.sk-toggleable__label-arrow:before {content: \"▾\";}#sk-container-id-1 div.sk-estimator input.sk-toggleable__control:checked~label.sk-toggleable__label {background-color: #d4ebff;}#sk-container-id-1 div.sk-label input.sk-toggleable__control:checked~label.sk-toggleable__label {background-color: #d4ebff;}#sk-container-id-1 input.sk-hidden--visually {border: 0;clip: rect(1px 1px 1px 1px);clip: rect(1px, 1px, 1px, 1px);height: 1px;margin: -1px;overflow: hidden;padding: 0;position: absolute;width: 1px;}#sk-container-id-1 div.sk-estimator {font-family: monospace;background-color: #f0f8ff;border: 1px dotted black;border-radius: 0.25em;box-sizing: border-box;margin-bottom: 0.5em;}#sk-container-id-1 div.sk-estimator:hover {background-color: #d4ebff;}#sk-container-id-1 div.sk-parallel-item::after {content: \"\";width: 100%;border-bottom: 1px solid gray;flex-grow: 1;}#sk-container-id-1 div.sk-label:hover label.sk-toggleable__label {background-color: #d4ebff;}#sk-container-id-1 div.sk-serial::before {content: \"\";position: absolute;border-left: 1px solid gray;box-sizing: border-box;top: 0;bottom: 0;left: 50%;z-index: 0;}#sk-container-id-1 div.sk-serial {display: flex;flex-direction: column;align-items: center;background-color: white;padding-right: 0.2em;padding-left: 0.2em;position: relative;}#sk-container-id-1 div.sk-item {position: relative;z-index: 1;}#sk-container-id-1 div.sk-parallel {display: flex;align-items: stretch;justify-content: center;background-color: white;position: relative;}#sk-container-id-1 div.sk-item::before, #sk-container-id-1 div.sk-parallel-item::before {content: \"\";position: absolute;border-left: 1px solid gray;box-sizing: border-box;top: 0;bottom: 0;left: 50%;z-index: -1;}#sk-container-id-1 div.sk-parallel-item {display: flex;flex-direction: column;z-index: 1;position: relative;background-color: white;}#sk-container-id-1 div.sk-parallel-item:first-child::after {align-self: flex-end;width: 50%;}#sk-container-id-1 div.sk-parallel-item:last-child::after {align-self: flex-start;width: 50%;}#sk-container-id-1 div.sk-parallel-item:only-child::after {width: 0;}#sk-container-id-1 div.sk-dashed-wrapped {border: 1px dashed gray;margin: 0 0.4em 0.5em 0.4em;box-sizing: border-box;padding-bottom: 0.4em;background-color: white;}#sk-container-id-1 div.sk-label label {font-family: monospace;font-weight: bold;display: inline-block;line-height: 1.2em;}#sk-container-id-1 div.sk-label-container {text-align: center;}#sk-container-id-1 div.sk-container {/* jupyter's `normalize.less` sets `[hidden] { display: none; }` but bootstrap.min.css set `[hidden] { display: none !important; }` so we also need the `!important` here to be able to override the default hidden behavior on the sphinx rendered scikit-learn.org. See: https://github.com/scikit-learn/scikit-learn/issues/21755 */display: inline-block !important;position: relative;}#sk-container-id-1 div.sk-text-repr-fallback {display: none;}</style><div id=\"sk-container-id-1\" class=\"sk-top-container\"><div class=\"sk-text-repr-fallback\"><pre>LinearRegression()</pre><b>In a Jupyter environment, please rerun this cell to show the HTML representation or trust the notebook. <br />On GitHub, the HTML representation is unable to render, please try loading this page with nbviewer.org.</b></div><div class=\"sk-container\" hidden><div class=\"sk-item\"><div class=\"sk-estimator sk-toggleable\"><input class=\"sk-toggleable__control sk-hidden--visually\" id=\"sk-estimator-id-1\" type=\"checkbox\" checked><label for=\"sk-estimator-id-1\" class=\"sk-toggleable__label sk-toggleable__label-arrow\">LinearRegression</label><div class=\"sk-toggleable__content\"><pre>LinearRegression()</pre></div></div></div></div></div>"
      ],
      "text/plain": [
       "LinearRegression()"
      ]
     },
     "execution_count": 31,
     "metadata": {},
     "output_type": "execute_result"
    }
   ],
   "source": [
    "linreg=LinearRegression()\n",
    "train,test = train_test_split(prueba_2, test_size=0.2 , random_state=0)\n",
    "y_train = train['0']\n",
    "y_test = test['0']\n",
    "\n",
    "\n",
    "X_train = train.drop(['0'], axis=1)\n",
    "X_test = test.drop(['0'], axis=1)\n",
    "#acabo de seleccionar mis train\n",
    "#esta  bueno separe los datos de mi y\n",
    "\n",
    "linreg.fit(X_train, y_train)"
   ]
  },
  {
   "cell_type": "code",
   "execution_count": 32,
   "metadata": {},
   "outputs": [
    {
     "data": {
      "text/plain": [
       "1.0"
      ]
     },
     "execution_count": 32,
     "metadata": {},
     "output_type": "execute_result"
    }
   ],
   "source": [
    "linreg.score(X_train, y_train)"
   ]
  },
  {
   "cell_type": "code",
   "execution_count": 7,
   "metadata": {},
   "outputs": [
    {
     "data": {
      "text/html": [
       "<div>\n",
       "<style scoped>\n",
       "    .dataframe tbody tr th:only-of-type {\n",
       "        vertical-align: middle;\n",
       "    }\n",
       "\n",
       "    .dataframe tbody tr th {\n",
       "        vertical-align: top;\n",
       "    }\n",
       "\n",
       "    .dataframe thead th {\n",
       "        text-align: right;\n",
       "    }\n",
       "</style>\n",
       "<table border=\"1\" class=\"dataframe\">\n",
       "  <thead>\n",
       "    <tr style=\"text-align: right;\">\n",
       "      <th></th>\n",
       "      <th>Fecha</th>\n",
       "      <th>Turistas</th>\n",
       "      <th>crecimiento</th>\n",
       "      <th>Pais</th>\n",
       "      <th>Evento</th>\n",
       "      <th>Diff_anos</th>\n",
       "    </tr>\n",
       "  </thead>\n",
       "  <tbody>\n",
       "    <tr>\n",
       "      <th>0</th>\n",
       "      <td>1998</td>\n",
       "      <td>4106000</td>\n",
       "      <td>-2.655287</td>\n",
       "      <td>japon</td>\n",
       "      <td>WC</td>\n",
       "      <td>-4</td>\n",
       "    </tr>\n",
       "    <tr>\n",
       "      <th>1</th>\n",
       "      <td>1999</td>\n",
       "      <td>4438000</td>\n",
       "      <td>8.085728</td>\n",
       "      <td>japon</td>\n",
       "      <td>WC</td>\n",
       "      <td>-3</td>\n",
       "    </tr>\n",
       "    <tr>\n",
       "      <th>2</th>\n",
       "      <td>2000</td>\n",
       "      <td>4757000</td>\n",
       "      <td>7.187922</td>\n",
       "      <td>japon</td>\n",
       "      <td>WC</td>\n",
       "      <td>-2</td>\n",
       "    </tr>\n",
       "    <tr>\n",
       "      <th>3</th>\n",
       "      <td>2001</td>\n",
       "      <td>4772000</td>\n",
       "      <td>0.315325</td>\n",
       "      <td>japon</td>\n",
       "      <td>WC</td>\n",
       "      <td>-1</td>\n",
       "    </tr>\n",
       "    <tr>\n",
       "      <th>4</th>\n",
       "      <td>2002</td>\n",
       "      <td>5239000</td>\n",
       "      <td>9.786253</td>\n",
       "      <td>japon</td>\n",
       "      <td>WC</td>\n",
       "      <td>0</td>\n",
       "    </tr>\n",
       "    <tr>\n",
       "      <th>...</th>\n",
       "      <td>...</td>\n",
       "      <td>...</td>\n",
       "      <td>...</td>\n",
       "      <td>...</td>\n",
       "      <td>...</td>\n",
       "      <td>...</td>\n",
       "    </tr>\n",
       "    <tr>\n",
       "      <th>81</th>\n",
       "      <td>2015</td>\n",
       "      <td>6306000</td>\n",
       "      <td>-1.928460</td>\n",
       "      <td>brasil</td>\n",
       "      <td>OL</td>\n",
       "      <td>-1</td>\n",
       "    </tr>\n",
       "    <tr>\n",
       "      <th>82</th>\n",
       "      <td>2016</td>\n",
       "      <td>6547000</td>\n",
       "      <td>3.821757</td>\n",
       "      <td>brasil</td>\n",
       "      <td>OL</td>\n",
       "      <td>0</td>\n",
       "    </tr>\n",
       "    <tr>\n",
       "      <th>83</th>\n",
       "      <td>2017</td>\n",
       "      <td>6589000</td>\n",
       "      <td>0.641515</td>\n",
       "      <td>brasil</td>\n",
       "      <td>OL</td>\n",
       "      <td>1</td>\n",
       "    </tr>\n",
       "    <tr>\n",
       "      <th>84</th>\n",
       "      <td>2018</td>\n",
       "      <td>6621000</td>\n",
       "      <td>0.485658</td>\n",
       "      <td>brasil</td>\n",
       "      <td>OL</td>\n",
       "      <td>2</td>\n",
       "    </tr>\n",
       "    <tr>\n",
       "      <th>85</th>\n",
       "      <td>2019</td>\n",
       "      <td>6353141</td>\n",
       "      <td>-4.045597</td>\n",
       "      <td>brasil</td>\n",
       "      <td>OL</td>\n",
       "      <td>3</td>\n",
       "    </tr>\n",
       "  </tbody>\n",
       "</table>\n",
       "<p>86 rows × 6 columns</p>\n",
       "</div>"
      ],
      "text/plain": [
       "    Fecha  Turistas  crecimiento    Pais Evento  Diff_anos\n",
       "0    1998   4106000    -2.655287   japon     WC         -4\n",
       "1    1999   4438000     8.085728   japon     WC         -3\n",
       "2    2000   4757000     7.187922   japon     WC         -2\n",
       "3    2001   4772000     0.315325   japon     WC         -1\n",
       "4    2002   5239000     9.786253   japon     WC          0\n",
       "..    ...       ...          ...     ...    ...        ...\n",
       "81   2015   6306000    -1.928460  brasil     OL         -1\n",
       "82   2016   6547000     3.821757  brasil     OL          0\n",
       "83   2017   6589000     0.641515  brasil     OL          1\n",
       "84   2018   6621000     0.485658  brasil     OL          2\n",
       "85   2019   6353141    -4.045597  brasil     OL          3\n",
       "\n",
       "[86 rows x 6 columns]"
      ]
     },
     "execution_count": 7,
     "metadata": {},
     "output_type": "execute_result"
    }
   ],
   "source": [
    "df_total = pd.concat([df_wc, df_ol], join='inner', ignore_index=True)\n",
    "df_total"
   ]
  },
  {
   "cell_type": "code",
   "execution_count": 8,
   "metadata": {},
   "outputs": [
    {
     "data": {
      "text/plain": [
       "<pandas.core.groupby.generic.DataFrameGroupBy object at 0x0000023A0C1FB580>"
      ]
     },
     "execution_count": 8,
     "metadata": {},
     "output_type": "execute_result"
    }
   ],
   "source": [
    "df_prueba = df_total.groupby(by='Diff_anos')\n",
    "df_prueba"
   ]
  },
  {
   "cell_type": "code",
   "execution_count": 9,
   "metadata": {},
   "outputs": [
    {
     "data": {
      "text/html": [
       "<div>\n",
       "<style scoped>\n",
       "    .dataframe tbody tr th:only-of-type {\n",
       "        vertical-align: middle;\n",
       "    }\n",
       "\n",
       "    .dataframe tbody tr th {\n",
       "        vertical-align: top;\n",
       "    }\n",
       "\n",
       "    .dataframe thead th {\n",
       "        text-align: right;\n",
       "    }\n",
       "</style>\n",
       "<table border=\"1\" class=\"dataframe\">\n",
       "  <thead>\n",
       "    <tr style=\"text-align: right;\">\n",
       "      <th></th>\n",
       "      <th>crecimiento</th>\n",
       "      <th>Diff_anos</th>\n",
       "    </tr>\n",
       "  </thead>\n",
       "  <tbody>\n",
       "    <tr>\n",
       "      <th>0</th>\n",
       "      <td>-2.655287</td>\n",
       "      <td>-4</td>\n",
       "    </tr>\n",
       "    <tr>\n",
       "      <th>1</th>\n",
       "      <td>8.085728</td>\n",
       "      <td>-3</td>\n",
       "    </tr>\n",
       "    <tr>\n",
       "      <th>2</th>\n",
       "      <td>7.187922</td>\n",
       "      <td>-2</td>\n",
       "    </tr>\n",
       "    <tr>\n",
       "      <th>3</th>\n",
       "      <td>0.315325</td>\n",
       "      <td>-1</td>\n",
       "    </tr>\n",
       "    <tr>\n",
       "      <th>4</th>\n",
       "      <td>9.786253</td>\n",
       "      <td>0</td>\n",
       "    </tr>\n",
       "    <tr>\n",
       "      <th>...</th>\n",
       "      <td>...</td>\n",
       "      <td>...</td>\n",
       "    </tr>\n",
       "    <tr>\n",
       "      <th>81</th>\n",
       "      <td>-1.928460</td>\n",
       "      <td>-1</td>\n",
       "    </tr>\n",
       "    <tr>\n",
       "      <th>82</th>\n",
       "      <td>3.821757</td>\n",
       "      <td>0</td>\n",
       "    </tr>\n",
       "    <tr>\n",
       "      <th>83</th>\n",
       "      <td>0.641515</td>\n",
       "      <td>1</td>\n",
       "    </tr>\n",
       "    <tr>\n",
       "      <th>84</th>\n",
       "      <td>0.485658</td>\n",
       "      <td>2</td>\n",
       "    </tr>\n",
       "    <tr>\n",
       "      <th>85</th>\n",
       "      <td>-4.045597</td>\n",
       "      <td>3</td>\n",
       "    </tr>\n",
       "  </tbody>\n",
       "</table>\n",
       "<p>86 rows × 2 columns</p>\n",
       "</div>"
      ],
      "text/plain": [
       "    crecimiento  Diff_anos\n",
       "0     -2.655287         -4\n",
       "1      8.085728         -3\n",
       "2      7.187922         -2\n",
       "3      0.315325         -1\n",
       "4      9.786253          0\n",
       "..          ...        ...\n",
       "81    -1.928460         -1\n",
       "82     3.821757          0\n",
       "83     0.641515          1\n",
       "84     0.485658          2\n",
       "85    -4.045597          3\n",
       "\n",
       "[86 rows x 2 columns]"
      ]
     },
     "execution_count": 9,
     "metadata": {},
     "output_type": "execute_result"
    }
   ],
   "source": [
    "df_prueba = df_total[['crecimiento', 'Diff_anos']]\n",
    "df_prueba"
   ]
  },
  {
   "cell_type": "code",
   "execution_count": 10,
   "metadata": {},
   "outputs": [
    {
     "data": {
      "text/html": [
       "<div>\n",
       "<style scoped>\n",
       "    .dataframe tbody tr th:only-of-type {\n",
       "        vertical-align: middle;\n",
       "    }\n",
       "\n",
       "    .dataframe tbody tr th {\n",
       "        vertical-align: top;\n",
       "    }\n",
       "\n",
       "    .dataframe thead th {\n",
       "        text-align: right;\n",
       "    }\n",
       "</style>\n",
       "<table border=\"1\" class=\"dataframe\">\n",
       "  <thead>\n",
       "    <tr style=\"text-align: right;\">\n",
       "      <th></th>\n",
       "      <th>Pais</th>\n",
       "      <th>-4</th>\n",
       "      <th>-3</th>\n",
       "      <th>-2</th>\n",
       "      <th>-1</th>\n",
       "      <th>0</th>\n",
       "      <th>1</th>\n",
       "      <th>2</th>\n",
       "      <th>3</th>\n",
       "      <th>4</th>\n",
       "    </tr>\n",
       "  </thead>\n",
       "  <tbody>\n",
       "  </tbody>\n",
       "</table>\n",
       "</div>"
      ],
      "text/plain": [
       "Empty DataFrame\n",
       "Columns: [Pais, -4, -3, -2, -1, 0, 1, 2, 3, 4]\n",
       "Index: []"
      ]
     },
     "execution_count": 10,
     "metadata": {},
     "output_type": "execute_result"
    }
   ],
   "source": [
    "df_prueba = pd.DataFrame(columns=['Pais', '-4', '-3', '-2', '-1', '0', '1', '2', '3', '4'])\n",
    "df_prueba"
   ]
  },
  {
   "cell_type": "code",
   "execution_count": 11,
   "metadata": {},
   "outputs": [
    {
     "data": {
      "image/png": "[encoded data removed]",
      "text/plain": [
       "<Figure size 720x720 with 2 Axes>"
      ]
     },
     "metadata": {
      "needs_background": "light"
     },
     "output_type": "display_data"
    }
   ],
   "source": [
    "df_heatmap = df_total.corr(method='pearson')\n",
    "plt.figure(figsize=(10, 10))\n",
    "sns.heatmap(df_heatmap, annot=True)\n",
    "plt.show()"
   ]
  },
  {
   "cell_type": "code",
   "execution_count": 13,
   "metadata": {},
   "outputs": [
    {
     "ename": "ValueError",
     "evalue": "Length of values (8) does not match length of index (25)",
     "output_type": "error",
     "traceback": [
      "\u001b[1;31m---------------------------------------------------------------------------\u001b[0m",
      "\u001b[1;31mValueError\u001b[0m                                Traceback (most recent call last)",
      "\u001b[1;32mc:\\Users\\benja\\Proyecto-WC---OL\\proyect.ipynb Celda 13\u001b[0m in \u001b[0;36m<cell line: 34>\u001b[1;34m()\u001b[0m\n\u001b[0;32m     <a href='vscode-notebook-cell:/c%3A/Users/benja/Proyecto-WC---OL/proyect.ipynb#X15sZmlsZQ%3D%3D?line=30'>31</a>\u001b[0m         porcentaje\u001b[39m.\u001b[39mappend(porc)\n\u001b[0;32m     <a href='vscode-notebook-cell:/c%3A/Users/benja/Proyecto-WC---OL/proyect.ipynb#X15sZmlsZQ%3D%3D?line=31'>32</a>\u001b[0m         ultimo \u001b[39m=\u001b[39m i\n\u001b[1;32m---> <a href='vscode-notebook-cell:/c%3A/Users/benja/Proyecto-WC---OL/proyect.ipynb#X15sZmlsZQ%3D%3D?line=33'>34</a>\u001b[0m df_chile[\u001b[39m'\u001b[39;49m\u001b[39mcrecimiento\u001b[39;49m\u001b[39m'\u001b[39;49m] \u001b[39m=\u001b[39m porcentaje\n\u001b[0;32m     <a href='vscode-notebook-cell:/c%3A/Users/benja/Proyecto-WC---OL/proyect.ipynb#X15sZmlsZQ%3D%3D?line=34'>35</a>\u001b[0m df_chile\n",
      "File \u001b[1;32mc:\\Users\\benja\\AppData\\Local\\Programs\\Python\\Python310\\lib\\site-packages\\pandas\\core\\frame.py:3655\u001b[0m, in \u001b[0;36mDataFrame.__setitem__\u001b[1;34m(self, key, value)\u001b[0m\n\u001b[0;32m   3652\u001b[0m     \u001b[39mself\u001b[39m\u001b[39m.\u001b[39m_setitem_array([key], value)\n\u001b[0;32m   3653\u001b[0m \u001b[39melse\u001b[39;00m:\n\u001b[0;32m   3654\u001b[0m     \u001b[39m# set column\u001b[39;00m\n\u001b[1;32m-> 3655\u001b[0m     \u001b[39mself\u001b[39;49m\u001b[39m.\u001b[39;49m_set_item(key, value)\n",
      "File \u001b[1;32mc:\\Users\\benja\\AppData\\Local\\Programs\\Python\\Python310\\lib\\site-packages\\pandas\\core\\frame.py:3832\u001b[0m, in \u001b[0;36mDataFrame._set_item\u001b[1;34m(self, key, value)\u001b[0m\n\u001b[0;32m   3822\u001b[0m \u001b[39mdef\u001b[39;00m \u001b[39m_set_item\u001b[39m(\u001b[39mself\u001b[39m, key, value) \u001b[39m-\u001b[39m\u001b[39m>\u001b[39m \u001b[39mNone\u001b[39;00m:\n\u001b[0;32m   3823\u001b[0m     \u001b[39m\"\"\"\u001b[39;00m\n\u001b[0;32m   3824\u001b[0m \u001b[39m    Add series to DataFrame in specified column.\u001b[39;00m\n\u001b[0;32m   3825\u001b[0m \n\u001b[1;32m   (...)\u001b[0m\n\u001b[0;32m   3830\u001b[0m \u001b[39m    ensure homogeneity.\u001b[39;00m\n\u001b[0;32m   3831\u001b[0m \u001b[39m    \"\"\"\u001b[39;00m\n\u001b[1;32m-> 3832\u001b[0m     value \u001b[39m=\u001b[39m \u001b[39mself\u001b[39;49m\u001b[39m.\u001b[39;49m_sanitize_column(value)\n\u001b[0;32m   3834\u001b[0m     \u001b[39mif\u001b[39;00m (\n\u001b[0;32m   3835\u001b[0m         key \u001b[39min\u001b[39;00m \u001b[39mself\u001b[39m\u001b[39m.\u001b[39mcolumns\n\u001b[0;32m   3836\u001b[0m         \u001b[39mand\u001b[39;00m value\u001b[39m.\u001b[39mndim \u001b[39m==\u001b[39m \u001b[39m1\u001b[39m\n\u001b[0;32m   3837\u001b[0m         \u001b[39mand\u001b[39;00m \u001b[39mnot\u001b[39;00m is_extension_array_dtype(value)\n\u001b[0;32m   3838\u001b[0m     ):\n\u001b[0;32m   3839\u001b[0m         \u001b[39m# broadcast across multiple columns if necessary\u001b[39;00m\n\u001b[0;32m   3840\u001b[0m         \u001b[39mif\u001b[39;00m \u001b[39mnot\u001b[39;00m \u001b[39mself\u001b[39m\u001b[39m.\u001b[39mcolumns\u001b[39m.\u001b[39mis_unique \u001b[39mor\u001b[39;00m \u001b[39misinstance\u001b[39m(\u001b[39mself\u001b[39m\u001b[39m.\u001b[39mcolumns, MultiIndex):\n",
      "File \u001b[1;32mc:\\Users\\benja\\AppData\\Local\\Programs\\Python\\Python310\\lib\\site-packages\\pandas\\core\\frame.py:4535\u001b[0m, in \u001b[0;36mDataFrame._sanitize_column\u001b[1;34m(self, value)\u001b[0m\n\u001b[0;32m   4532\u001b[0m     \u001b[39mreturn\u001b[39;00m _reindex_for_setitem(value, \u001b[39mself\u001b[39m\u001b[39m.\u001b[39mindex)\n\u001b[0;32m   4534\u001b[0m \u001b[39mif\u001b[39;00m is_list_like(value):\n\u001b[1;32m-> 4535\u001b[0m     com\u001b[39m.\u001b[39;49mrequire_length_match(value, \u001b[39mself\u001b[39;49m\u001b[39m.\u001b[39;49mindex)\n\u001b[0;32m   4536\u001b[0m \u001b[39mreturn\u001b[39;00m sanitize_array(value, \u001b[39mself\u001b[39m\u001b[39m.\u001b[39mindex, copy\u001b[39m=\u001b[39m\u001b[39mTrue\u001b[39;00m, allow_2d\u001b[39m=\u001b[39m\u001b[39mTrue\u001b[39;00m)\n",
      "File \u001b[1;32mc:\\Users\\benja\\AppData\\Local\\Programs\\Python\\Python310\\lib\\site-packages\\pandas\\core\\common.py:557\u001b[0m, in \u001b[0;36mrequire_length_match\u001b[1;34m(data, index)\u001b[0m\n\u001b[0;32m    553\u001b[0m \u001b[39m\"\"\"\u001b[39;00m\n\u001b[0;32m    554\u001b[0m \u001b[39mCheck the length of data matches the length of the index.\u001b[39;00m\n\u001b[0;32m    555\u001b[0m \u001b[39m\"\"\"\u001b[39;00m\n\u001b[0;32m    556\u001b[0m \u001b[39mif\u001b[39;00m \u001b[39mlen\u001b[39m(data) \u001b[39m!=\u001b[39m \u001b[39mlen\u001b[39m(index):\n\u001b[1;32m--> 557\u001b[0m     \u001b[39mraise\u001b[39;00m \u001b[39mValueError\u001b[39;00m(\n\u001b[0;32m    558\u001b[0m         \u001b[39m\"\u001b[39m\u001b[39mLength of values \u001b[39m\u001b[39m\"\u001b[39m\n\u001b[0;32m    559\u001b[0m         \u001b[39mf\u001b[39m\u001b[39m\"\u001b[39m\u001b[39m(\u001b[39m\u001b[39m{\u001b[39;00m\u001b[39mlen\u001b[39m(data)\u001b[39m}\u001b[39;00m\u001b[39m) \u001b[39m\u001b[39m\"\u001b[39m\n\u001b[0;32m    560\u001b[0m         \u001b[39m\"\u001b[39m\u001b[39mdoes not match length of index \u001b[39m\u001b[39m\"\u001b[39m\n\u001b[0;32m    561\u001b[0m         \u001b[39mf\u001b[39m\u001b[39m\"\u001b[39m\u001b[39m(\u001b[39m\u001b[39m{\u001b[39;00m\u001b[39mlen\u001b[39m(index)\u001b[39m}\u001b[39;00m\u001b[39m)\u001b[39m\u001b[39m\"\u001b[39m\n\u001b[0;32m    562\u001b[0m     )\n",
      "\u001b[1;31mValueError\u001b[0m: Length of values (8) does not match length of index (25)"
     ]
    }
   ],
   "source": [
    "url = f\"https://datosmacro.expansion.com/comercio/turismo-internacional/chile\"\n",
    "page = rq.get(url)\n",
    "sopa = BeautifulSoup(page.content, \"html.parser\")\n",
    "tabla = sopa.find(\"table\")\n",
    "valores = tabla.find_all('td')\n",
    "\n",
    "fechas = []\n",
    "gente = []\n",
    "for i in range(len(valores)):\n",
    "    if i%2 == 0:\n",
    "        fechas.append(valores[i].text)\n",
    "    else:\n",
    "        gente.append(valores[i].text)\n",
    "\n",
    "df_chile = pd.DataFrame(columns=['Fecha', 'Turistas'])\n",
    "df_chile['Fecha'] = fechas\n",
    "df_chile['Turistas'] = gente\n",
    "df_chile = df_chile.sort_values('Fecha').reset_index(drop=True)\n",
    "df_chile['Fecha'] = df_chile['Fecha'].astype('int64')\n",
    "df_chile['Turistas'] = df_chile['Turistas'].apply(lambda x: x.replace('.', ''))\n",
    "df_chile['Turistas'] = df_chile['Turistas'].astype('int64')\n",
    "\n",
    "porcentaje = []\n",
    "for i in df[\"Turistas\"]:\n",
    "    if len(porcentaje) == 0:\n",
    "        porcentaje.append(0)\n",
    "        ultimo = i\n",
    "    else:\n",
    "        porc = (i*100)/ultimo\n",
    "        porc -= 100\n",
    "        porcentaje.append(porc)\n",
    "        ultimo = i\n",
    "\n",
    "df_chile['crecimiento'] = porcentaje\n",
    "df_chile"
   ]
  },
  {
   "cell_type": "markdown",
   "metadata": {},
   "source": [
    "Ver crecimiento mundial de pib, promedio y calcular el promedio de cada pais y comparar"
   ]
  },
  {
   "cell_type": "markdown",
   "metadata": {},
   "source": [
    "Hipótesis:   \n",
    "1. La organización de un mundial hace que en el tiempo cercano al evento (los 2 años antes) se incrementa el gasto en el turismo, ya que se espera que el mundial fomente el turismo en el país.   \n",
    "2. El mundial genera una mayor llegada de turistas en el año y en el próximo lustro.   \n",
    "3. La mayor llegada de turistas genera más ingresos por turismo.   \n",
    "4. Esto al final no influye mucho en el pib (no genera más de medio punto de cambio en el per capita)"
   ]
  },
  {
   "cell_type": "markdown",
   "metadata": {},
   "source": [
    "Organizar:\n",
    "Calcular diferencia porcentual por pais del pib, ingreso neto, ingreso personas\n",
    "Despues de calcular eso:\n",
    "3 graficos pequeños con lo calculado, grafico por pais (pairplot)\n",
    "Final:\n",
    "3 graficos finales con 4 antes por pais (color por wc y ol) y 4 despues con lo mismo y asi hacer difecrencia por pais\n"
   ]
  }
 ],
 "metadata": {
  "kernelspec": {
   "display_name": "Python 3.10.6 64-bit",
   "language": "python",
   "name": "python3"
  },
  "language_info": {
   "codemirror_mode": {
    "name": "ipython",
    "version": 3
   },
   "file_extension": ".py",
   "mimetype": "text/x-python",
   "name": "python",
   "nbconvert_exporter": "python",
   "pygments_lexer": "ipython3",
   "version": "3.10.6"
  },
  "orig_nbformat": 4,
  "vscode": {
   "interpreter": {
    "hash": "d1cba19b971ff694059e83efcf642bf4bc6078f5ed50d16de55abdc3eb9fc494"
   }
  }
 },
 "nbformat": 4,
 "nbformat_minor": 2
}
