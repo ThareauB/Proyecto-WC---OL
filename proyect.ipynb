{
 "cells": [
  {
   "cell_type": "markdown",
   "metadata": {},
   "source": [
    "Hay que hacer bonito esto pero es pa poner la direccion de la api \n"
   ]
  },
  {
   "cell_type": "code",
   "execution_count": 1,
   "metadata": {},
   "outputs": [],
   "source": [
    "import requests as rq\n",
    "import pandas as pd"
   ]
  },
  {
   "cell_type": "code",
   "execution_count": 2,
   "metadata": {},
   "outputs": [
    {
     "data": {
      "text/plain": [
       "[{'page': 1,\n",
       "  'pages': 1,\n",
       "  'per_page': 50,\n",
       "  'total': 9,\n",
       "  'sourceid': '2',\n",
       "  'sourcename': 'World Development Indicators',\n",
       "  'lastupdated': '2022-09-16'},\n",
       " [{'indicator': {'id': 'ST.INT.ARVL',\n",
       "    'value': 'International tourism, number of arrivals'},\n",
       "   'country': {'id': 'BR', 'value': 'Brazil'},\n",
       "   'countryiso3code': 'BRA',\n",
       "   'date': '2018',\n",
       "   'value': 6621000,\n",
       "   'unit': '',\n",
       "   'obs_status': '',\n",
       "   'decimal': 0},\n",
       "  {'indicator': {'id': 'ST.INT.ARVL',\n",
       "    'value': 'International tourism, number of arrivals'},\n",
       "   'country': {'id': 'BR', 'value': 'Brazil'},\n",
       "   'countryiso3code': 'BRA',\n",
       "   'date': '2017',\n",
       "   'value': 6589000,\n",
       "   'unit': '',\n",
       "   'obs_status': '',\n",
       "   'decimal': 0},\n",
       "  {'indicator': {'id': 'ST.INT.ARVL',\n",
       "    'value': 'International tourism, number of arrivals'},\n",
       "   'country': {'id': 'BR', 'value': 'Brazil'},\n",
       "   'countryiso3code': 'BRA',\n",
       "   'date': '2016',\n",
       "   'value': 6547000,\n",
       "   'unit': '',\n",
       "   'obs_status': '',\n",
       "   'decimal': 0},\n",
       "  {'indicator': {'id': 'ST.INT.ARVL',\n",
       "    'value': 'International tourism, number of arrivals'},\n",
       "   'country': {'id': 'BR', 'value': 'Brazil'},\n",
       "   'countryiso3code': 'BRA',\n",
       "   'date': '2015',\n",
       "   'value': 6306000,\n",
       "   'unit': '',\n",
       "   'obs_status': '',\n",
       "   'decimal': 0},\n",
       "  {'indicator': {'id': 'ST.INT.ARVL',\n",
       "    'value': 'International tourism, number of arrivals'},\n",
       "   'country': {'id': 'BR', 'value': 'Brazil'},\n",
       "   'countryiso3code': 'BRA',\n",
       "   'date': '2014',\n",
       "   'value': 6430000,\n",
       "   'unit': '',\n",
       "   'obs_status': '',\n",
       "   'decimal': 0},\n",
       "  {'indicator': {'id': 'ST.INT.ARVL',\n",
       "    'value': 'International tourism, number of arrivals'},\n",
       "   'country': {'id': 'BR', 'value': 'Brazil'},\n",
       "   'countryiso3code': 'BRA',\n",
       "   'date': '2013',\n",
       "   'value': 5813000,\n",
       "   'unit': '',\n",
       "   'obs_status': '',\n",
       "   'decimal': 0},\n",
       "  {'indicator': {'id': 'ST.INT.ARVL',\n",
       "    'value': 'International tourism, number of arrivals'},\n",
       "   'country': {'id': 'BR', 'value': 'Brazil'},\n",
       "   'countryiso3code': 'BRA',\n",
       "   'date': '2012',\n",
       "   'value': 5677000,\n",
       "   'unit': '',\n",
       "   'obs_status': '',\n",
       "   'decimal': 0},\n",
       "  {'indicator': {'id': 'ST.INT.ARVL',\n",
       "    'value': 'International tourism, number of arrivals'},\n",
       "   'country': {'id': 'BR', 'value': 'Brazil'},\n",
       "   'countryiso3code': 'BRA',\n",
       "   'date': '2011',\n",
       "   'value': 5433000,\n",
       "   'unit': '',\n",
       "   'obs_status': '',\n",
       "   'decimal': 0},\n",
       "  {'indicator': {'id': 'ST.INT.ARVL',\n",
       "    'value': 'International tourism, number of arrivals'},\n",
       "   'country': {'id': 'BR', 'value': 'Brazil'},\n",
       "   'countryiso3code': 'BRA',\n",
       "   'date': '2010',\n",
       "   'value': 5161000,\n",
       "   'unit': '',\n",
       "   'obs_status': '',\n",
       "   'decimal': 0}]]"
      ]
     },
     "execution_count": 2,
     "metadata": {},
     "output_type": "execute_result"
    }
   ],
   "source": [
    "url_turismo = \"http://api.worldbank.org/v2/country/BRA/indicator/ST.INT.ARVL?format=json&frequency=Y&date=2010:2018\"\n",
    "r = rq.get(url_turismo)\n",
    "r.json()"
   ]
  },
  {
   "cell_type": "code",
   "execution_count": null,
   "metadata": {},
   "outputs": [],
   "source": [
    "url_pib = \"http://api.worldbank.org/v2/country/BRA/indicator/NY.GDP.PCAP.PP.CD?format=json&frequency=Y&date=2010:2018\"\n",
    "r = rq.get(url_pib)\n",
    "r.json()"
   ]
  }
 ],
 "metadata": {
  "kernelspec": {
   "display_name": "Python 3.10.6 64-bit",
   "language": "python",
   "name": "python3"
  },
  "language_info": {
   "codemirror_mode": {
    "name": "ipython",
    "version": 3
   },
   "file_extension": ".py",
   "mimetype": "text/x-python",
   "name": "python",
   "nbconvert_exporter": "python",
   "pygments_lexer": "ipython3",
   "version": "3.10.6"
  },
  "orig_nbformat": 4,
  "vscode": {
   "interpreter": {
    "hash": "1488b9ef26de27252867fd64af3c2fca31d0aa8d47de4f131005a98fd1754f13"
   }
  }
 },
 "nbformat": 4,
 "nbformat_minor": 2
}
